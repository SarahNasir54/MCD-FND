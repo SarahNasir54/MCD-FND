{
 "cells": [
  {
   "cell_type": "code",
   "execution_count": 1,
   "id": "e3c7770d",
   "metadata": {},
   "outputs": [],
   "source": [
    "import pandas as pd\n",
    "\n",
    "\n",
    "df = pd.read_csv('D:\\\\instagramdataset_comments.csv')"
   ]
  },
  {
   "cell_type": "code",
   "execution_count": 2,
   "id": "ae53c3f8",
   "metadata": {},
   "outputs": [],
   "source": [
    "import os\n",
    "import requests\n",
    "from PIL import Image\n",
    "from io import BytesIO"
   ]
  },
  {
   "cell_type": "code",
   "execution_count": 3,
   "id": "c0c843af",
   "metadata": {},
   "outputs": [],
   "source": [
    "# Create the images directory if it doesn't exist\n",
    "os.makedirs('D:\\\\instagram\\\\images', exist_ok=True)"
   ]
  },
  {
   "cell_type": "code",
   "execution_count": 6,
   "id": "d6f5f357",
   "metadata": {},
   "outputs": [
    {
     "name": "stdout",
     "output_type": "stream",
     "text": [
      "Requirement already satisfied: pandas in c:\\users\\dell\\anaconda3\\lib\\site-packages (2.2.1)\n",
      "Requirement already satisfied: requests in c:\\users\\dell\\anaconda3\\lib\\site-packages (2.31.0)\n",
      "Requirement already satisfied: beautifulsoup4 in c:\\users\\dell\\anaconda3\\lib\\site-packages (4.12.2)\n",
      "Requirement already satisfied: pillow in c:\\users\\dell\\anaconda3\\lib\\site-packages (10.0.1)\n",
      "Requirement already satisfied: pytz>=2020.1 in c:\\users\\dell\\anaconda3\\lib\\site-packages (from pandas) (2023.3.post1)\n",
      "Requirement already satisfied: numpy<2,>=1.22.4 in c:\\users\\dell\\anaconda3\\lib\\site-packages (from pandas) (1.26.3)\n",
      "Requirement already satisfied: tzdata>=2022.7 in c:\\users\\dell\\anaconda3\\lib\\site-packages (from pandas) (2024.1)\n",
      "Requirement already satisfied: python-dateutil>=2.8.2 in c:\\users\\dell\\anaconda3\\lib\\site-packages (from pandas) (2.8.2)\n",
      "Requirement already satisfied: urllib3<3,>=1.21.1 in c:\\users\\dell\\anaconda3\\lib\\site-packages (from requests) (1.26.18)\n",
      "Requirement already satisfied: charset-normalizer<4,>=2 in c:\\users\\dell\\anaconda3\\lib\\site-packages (from requests) (2.0.4)\n",
      "Requirement already satisfied: idna<4,>=2.5 in c:\\users\\dell\\anaconda3\\lib\\site-packages (from requests) (3.4)\n",
      "Requirement already satisfied: certifi>=2017.4.17 in c:\\users\\dell\\anaconda3\\lib\\site-packages (from requests) (2023.11.17)\n",
      "Requirement already satisfied: soupsieve>1.2 in c:\\users\\dell\\anaconda3\\lib\\site-packages (from beautifulsoup4) (2.5)\n",
      "Requirement already satisfied: six>=1.5 in c:\\users\\dell\\anaconda3\\lib\\site-packages (from python-dateutil>=2.8.2->pandas) (1.16.0)\n"
     ]
    }
   ],
   "source": [
    "!pip install pandas requests beautifulsoup4 pillow"
   ]
  },
  {
   "cell_type": "code",
   "execution_count": 13,
   "id": "0157b47c",
   "metadata": {},
   "outputs": [],
   "source": [
    "import os\n",
    "import requests\n",
    "from PIL import Image\n",
    "from io import BytesIO\n",
    "from bs4 import BeautifulSoup\n",
    "import pandas as pd"
   ]
  },
  {
   "cell_type": "code",
   "execution_count": 16,
   "id": "e3ab90d5",
   "metadata": {},
   "outputs": [],
   "source": [
    "images_folder = 'D:\\\\instagram\\\\images'\n",
    "dataset_path = 'D:\\\\instagram\\\\instagramdataset_comments.csv'\n",
    "updated_dataset_path = 'D:\\\\instagram\\\\updated_dataset.csv'"
   ]
  },
  {
   "cell_type": "code",
   "execution_count": 21,
   "id": "91254215",
   "metadata": {},
   "outputs": [],
   "source": [
    "# Function to get the direct image URL from an Instagram post URL\n",
    "def get_instagram_image_url(post_url):\n",
    "    try:\n",
    "        response = requests.get(post_url)\n",
    "        if response.status_code == 200:\n",
    "            soup = BeautifulSoup(response.text, 'html.parser')\n",
    "            meta_tag = soup.find('meta', property='og:image')\n",
    "            if meta_tag and meta_tag.get('content'):\n",
    "                return meta_tag['content']\n",
    "    except Exception as e:\n",
    "        print(f\"Error scraping {post_url}: {e}\")\n",
    "    return None"
   ]
  },
  {
   "cell_type": "code",
   "execution_count": 22,
   "id": "e52ff72e",
   "metadata": {},
   "outputs": [],
   "source": [
    "# Function to download and save an image\n",
    "def download_image(url, folder, img_id, downloaded_images):\n",
    "    try:\n",
    "        if 'instagram.com' in url:\n",
    "            \n",
    "            if url in downloaded_images:\n",
    "                return downloaded_images[url]\n",
    "\n",
    "            image_url = get_instagram_image_url(url)\n",
    "            if not image_url:\n",
    "                print(f\"Could not find image URL for {url}\")\n",
    "                return None\n",
    "\n",
    "            response = requests.get(image_url)\n",
    "            img = Image.open(BytesIO(response.content))\n",
    "            extension = img.format.lower()  # Get the image format (e.g., jpeg, png)\n",
    "            img_name = f\"{img_id}.{extension}\"\n",
    "            img_path = os.path.join(folder, img_name)\n",
    "\n",
    "            # Verify image dimensions\n",
    "            width, height = img.size\n",
    "            if width > 0 and height > 0:\n",
    "                img.save(img_path)\n",
    "                downloaded_images[url] = img_name\n",
    "                return img_name\n",
    "            else:\n",
    "                print(f\"Image from {url} is incomplete\")\n",
    "                return None\n",
    "    except Exception as e:\n",
    "        print(f\"Error downloading {url}: {e}\")\n",
    "        return None"
   ]
  },
  {
   "cell_type": "code",
   "execution_count": 23,
   "id": "c31fa68d",
   "metadata": {},
   "outputs": [],
   "source": [
    "df = pd.read_csv(dataset_path)"
   ]
  },
  {
   "cell_type": "code",
   "execution_count": 24,
   "id": "8973297e",
   "metadata": {},
   "outputs": [
    {
     "name": "stdout",
     "output_type": "stream",
     "text": [
      "Could not find image URL for https://www.instagram.com/p/C5PsmYoNxqm/\n",
      "Could not find image URL for https://www.instagram.com/p/CyL8JeyOMdS/\n",
      "Could not find image URL for https://www.instagram.com/p/C28jaqqtmiC/\n",
      "Could not find image URL for https://www.instagram.com/p/C7fkOj5PNuB/\n",
      "Could not find image URL for https://www.instagram.com/p/C7fkOj5PNuB/\n",
      "Could not find image URL for https://www.instagram.com/p/C7fkOj5PNuB/\n",
      "Could not find image URL for https://www.instagram.com/p/C7fkOj5PNuB/\n",
      "Could not find image URL for https://www.instagram.com/p/C7fkOj5PNuB/\n",
      "Could not find image URL for https://www.instagram.com/p/C7fkOj5PNuB/\n",
      "Could not find image URL for https://www.instagram.com/p/C7fkOj5PNuB/\n",
      "Could not find image URL for https://www.instagram.com/p/C7fkOj5PNuB/\n",
      "Could not find image URL for https://www.instagram.com/p/C7fkOj5PNuB/\n",
      "Could not find image URL for https://www.instagram.com/p/C7fkOj5PNuB/\n",
      "Could not find image URL for https://www.instagram.com/p/C7fkOj5PNuB/\n",
      "Could not find image URL for https://www.instagram.com/p/C7fkOj5PNuB/\n",
      "Could not find image URL for https://www.instagram.com/p/C7fkOj5PNuB/\n",
      "Could not find image URL for https://www.instagram.com/p/C7fkOj5PNuB/\n",
      "Could not find image URL for https://www.instagram.com/p/C7fkOj5PNuB/\n",
      "Could not find image URL for https://www.instagram.com/p/C7fkOj5PNuB/\n",
      "Could not find image URL for https://www.instagram.com/p/C7fkOj5PNuB/\n",
      "Could not find image URL for https://www.instagram.com/p/C7fkOj5PNuB/\n",
      "Could not find image URL for https://www.instagram.com/p/C7fkOj5PNuB/\n",
      "Could not find image URL for https://www.instagram.com/p/C7fkOj5PNuB/\n",
      "Could not find image URL for https://www.instagram.com/p/C7fkOj5PNuB/\n",
      "Could not find image URL for https://www.instagram.com/p/C7fkOj5PNuB/\n",
      "Could not find image URL for https://www.instagram.com/p/C7fkOj5PNuB/\n",
      "Could not find image URL for https://www.instagram.com/p/C7fkOj5PNuB/\n",
      "Could not find image URL for https://www.instagram.com/p/C7fkOj5PNuB/\n",
      "Could not find image URL for https://www.instagram.com/p/C7fkOj5PNuB/\n",
      "Could not find image URL for https://www.instagram.com/p/C7fkOj5PNuB/\n",
      "Could not find image URL for https://www.instagram.com/p/C7fkOj5PNuB/\n",
      "Could not find image URL for https://www.instagram.com/p/C7fkOj5PNuB/\n",
      "Could not find image URL for https://www.instagram.com/p/C7fkOj5PNuB/\n",
      "Could not find image URL for https://www.instagram.com/p/C7fkOj5PNuB/\n",
      "Could not find image URL for https://www.instagram.com/p/C7fkOj5PNuB/\n",
      "Could not find image URL for https://www.instagram.com/p/C7fkOj5PNuB/\n",
      "Could not find image URL for https://www.instagram.com/p/C7fkOj5PNuB/\n",
      "Could not find image URL for https://www.instagram.com/p/C7fkOj5PNuB/\n",
      "Could not find image URL for https://www.instagram.com/p/C7fkOj5PNuB/\n",
      "Could not find image URL for https://www.instagram.com/p/C7fkOj5PNuB/\n",
      "Could not find image URL for https://www.instagram.com/p/C7fkOj5PNuB/\n",
      "Could not find image URL for https://www.instagram.com/p/C7fkOj5PNuB/\n",
      "Could not find image URL for https://www.instagram.com/p/C7fkOj5PNuB/\n",
      "Could not find image URL for https://www.instagram.com/p/C7fkOj5PNuB/\n",
      "Could not find image URL for https://www.instagram.com/p/C7fkOj5PNuB/\n",
      "Could not find image URL for https://www.instagram.com/p/C7fkOj5PNuB/\n",
      "Could not find image URL for https://www.instagram.com/p/C7fkOj5PNuB/\n",
      "Could not find image URL for https://www.instagram.com/p/C7fkOj5PNuB/\n",
      "Could not find image URL for https://www.instagram.com/p/C7fkOj5PNuB/\n",
      "Could not find image URL for https://www.instagram.com/p/C7fkOj5PNuB/\n",
      "Could not find image URL for https://www.instagram.com/p/C7fkOj5PNuB/\n",
      "Could not find image URL for https://www.instagram.com/p/C7fkOj5PNuB/\n",
      "Could not find image URL for https://www.instagram.com/p/C7fkOj5PNuB/\n",
      "Could not find image URL for https://www.instagram.com/p/CtR4DmBuE3j/\n",
      "Could not find image URL for https://www.instagram.com/p/CtR4DmBuE3j/\n",
      "Could not find image URL for https://www.instagram.com/p/CtR4DmBuE3j/\n",
      "Could not find image URL for https://www.instagram.com/p/CtR4DmBuE3j/\n",
      "Could not find image URL for https://www.instagram.com/p/CtR4DmBuE3j/\n",
      "Could not find image URL for https://www.instagram.com/p/CtR4DmBuE3j/\n",
      "Could not find image URL for https://www.instagram.com/p/CtR4DmBuE3j/\n",
      "Could not find image URL for https://www.instagram.com/p/CtR4DmBuE3j/\n",
      "Could not find image URL for https://www.instagram.com/p/CtR4DmBuE3j/\n",
      "Could not find image URL for https://www.instagram.com/p/CtR4DmBuE3j/\n",
      "Could not find image URL for https://www.instagram.com/p/CtR4DmBuE3j/\n",
      "Could not find image URL for https://www.instagram.com/p/CtR4DmBuE3j/\n",
      "Could not find image URL for https://www.instagram.com/p/CtR4DmBuE3j/\n",
      "Could not find image URL for https://www.instagram.com/p/CtR4DmBuE3j/\n",
      "Could not find image URL for https://www.instagram.com/p/CtR4DmBuE3j/\n",
      "Could not find image URL for https://www.instagram.com/p/CtR4DmBuE3j/\n",
      "Could not find image URL for https://www.instagram.com/p/CtR4DmBuE3j/\n",
      "Could not find image URL for https://www.instagram.com/p/CtR4DmBuE3j/\n",
      "Could not find image URL for https://www.instagram.com/p/CtR4DmBuE3j/\n",
      "Could not find image URL for https://www.instagram.com/p/CtR4DmBuE3j/\n",
      "Could not find image URL for https://www.instagram.com/p/CtR4DmBuE3j/\n",
      "Could not find image URL for https://www.instagram.com/p/CtR4DmBuE3j/\n",
      "Could not find image URL for https://www.instagram.com/p/CtR4DmBuE3j/\n",
      "Could not find image URL for https://www.instagram.com/p/CtR4DmBuE3j/\n",
      "Could not find image URL for https://www.instagram.com/p/CtR4DmBuE3j/\n",
      "Could not find image URL for https://www.instagram.com/p/CtR4DmBuE3j/\n",
      "Could not find image URL for https://www.instagram.com/p/CtR4DmBuE3j/\n",
      "Could not find image URL for https://www.instagram.com/p/CtR4DmBuE3j/\n",
      "Could not find image URL for https://www.instagram.com/p/CtR4DmBuE3j/\n",
      "Could not find image URL for https://www.instagram.com/p/CtR4DmBuE3j/\n",
      "Could not find image URL for https://www.instagram.com/p/CtR4DmBuE3j/\n",
      "Could not find image URL for https://www.instagram.com/p/CtR4DmBuE3j/\n",
      "Could not find image URL for https://www.instagram.com/p/CtR4DmBuE3j/\n",
      "Could not find image URL for https://www.instagram.com/p/CtR4DmBuE3j/\n",
      "Could not find image URL for https://www.instagram.com/p/CtR4DmBuE3j/\n",
      "Could not find image URL for https://www.instagram.com/p/CtR4DmBuE3j/\n",
      "Could not find image URL for https://www.instagram.com/p/CtR4DmBuE3j/\n",
      "Could not find image URL for https://www.instagram.com/p/CtR4DmBuE3j/\n",
      "Could not find image URL for https://www.instagram.com/p/CtR4DmBuE3j/\n",
      "Could not find image URL for https://www.instagram.com/p/CtR4DmBuE3j/\n",
      "Could not find image URL for https://www.instagram.com/p/CtR4DmBuE3j/\n",
      "Could not find image URL for https://www.instagram.com/p/CtR4DmBuE3j/\n",
      "Could not find image URL for https://www.instagram.com/p/CtR4DmBuE3j/\n",
      "Could not find image URL for https://www.instagram.com/p/CtR4DmBuE3j/\n",
      "Could not find image URL for https://www.instagram.com/p/CtR4DmBuE3j/\n",
      "Could not find image URL for https://www.instagram.com/p/CtR4DmBuE3j/\n",
      "Could not find image URL for https://www.instagram.com/p/CtR4DmBuE3j/\n",
      "Could not find image URL for https://www.instagram.com/p/CtR4DmBuE3j/\n",
      "Could not find image URL for https://www.instagram.com/p/CtR4DmBuE3j/\n",
      "Could not find image URL for https://www.instagram.com/p/CtR4DmBuE3j/\n",
      "Could not find image URL for https://www.instagram.com/p/CvHeONQgglU/\n",
      "Could not find image URL for https://www.instagram.com/p/CvHeONQgglU/\n",
      "Could not find image URL for https://www.instagram.com/p/CvHeONQgglU/\n",
      "Could not find image URL for https://www.instagram.com/p/CvHeONQgglU/\n",
      "Could not find image URL for https://www.instagram.com/p/CvHeONQgglU/\n",
      "Could not find image URL for https://www.instagram.com/p/CvHeONQgglU/\n",
      "Could not find image URL for https://www.instagram.com/p/CvHeONQgglU/\n",
      "Could not find image URL for https://www.instagram.com/p/CvHeONQgglU/\n",
      "Could not find image URL for https://www.instagram.com/p/CvHeONQgglU/\n",
      "Could not find image URL for https://www.instagram.com/p/CvHeONQgglU/\n",
      "Could not find image URL for https://www.instagram.com/p/CvHeONQgglU/\n",
      "Could not find image URL for https://www.instagram.com/p/CvHeONQgglU/\n",
      "Could not find image URL for https://www.instagram.com/p/CvHeONQgglU/\n",
      "Could not find image URL for https://www.instagram.com/p/CvHeONQgglU/\n",
      "Could not find image URL for https://www.instagram.com/p/CvHeONQgglU/\n"
     ]
    },
    {
     "name": "stdout",
     "output_type": "stream",
     "text": [
      "Could not find image URL for https://www.instagram.com/p/CvHeONQgglU/\n",
      "Could not find image URL for https://www.instagram.com/p/CvHeONQgglU/\n",
      "Could not find image URL for https://www.instagram.com/p/CvHeONQgglU/\n",
      "Could not find image URL for https://www.instagram.com/p/CvHeONQgglU/\n",
      "Could not find image URL for https://www.instagram.com/p/CvHeONQgglU/\n",
      "Could not find image URL for https://www.instagram.com/p/CvHeONQgglU/\n",
      "Could not find image URL for https://www.instagram.com/p/CvHeONQgglU/\n",
      "Could not find image URL for https://www.instagram.com/p/CvHeONQgglU/\n",
      "Could not find image URL for https://www.instagram.com/p/CvHeONQgglU/\n",
      "Could not find image URL for https://www.instagram.com/p/CvHeONQgglU/\n",
      "Could not find image URL for https://www.instagram.com/p/CvHeONQgglU/\n",
      "Could not find image URL for https://www.instagram.com/p/CvHeONQgglU/\n",
      "Could not find image URL for https://www.instagram.com/p/CvHeONQgglU/\n",
      "Could not find image URL for https://www.instagram.com/p/CvHeONQgglU/\n",
      "Could not find image URL for https://www.instagram.com/p/CvHeONQgglU/\n",
      "Could not find image URL for https://www.instagram.com/p/CvHeONQgglU/\n",
      "Could not find image URL for https://www.instagram.com/p/CvHeONQgglU/\n",
      "Could not find image URL for https://www.instagram.com/p/CvHeONQgglU/\n",
      "Could not find image URL for https://www.instagram.com/p/CvHeONQgglU/\n",
      "Could not find image URL for https://www.instagram.com/p/CvHeONQgglU/\n",
      "Could not find image URL for https://www.instagram.com/p/CvHeONQgglU/\n",
      "Could not find image URL for https://www.instagram.com/p/CvHeONQgglU/\n",
      "Could not find image URL for https://www.instagram.com/p/CvHeONQgglU/\n",
      "Could not find image URL for https://www.instagram.com/p/CvHeONQgglU/\n",
      "Could not find image URL for https://www.instagram.com/p/CvHeONQgglU/\n",
      "Could not find image URL for https://www.instagram.com/p/CvHeONQgglU/\n",
      "Could not find image URL for https://www.instagram.com/p/CvHeONQgglU/\n",
      "Could not find image URL for https://www.instagram.com/p/CvHeONQgglU/\n",
      "Could not find image URL for https://www.instagram.com/p/CvHeONQgglU/\n",
      "Could not find image URL for https://www.instagram.com/p/CvHeONQgglU/\n",
      "Could not find image URL for https://www.instagram.com/p/CvHeONQgglU/\n",
      "Could not find image URL for https://www.instagram.com/p/CvHeONQgglU/\n",
      "Could not find image URL for https://www.instagram.com/p/CvHeONQgglU/\n",
      "Could not find image URL for https://www.instagram.com/p/CvHeONQgglU/\n",
      "Error downloading nan: argument of type 'float' is not iterable\n",
      "Error downloading nan: argument of type 'float' is not iterable\n",
      "Could not find image URL for https://www.instagram.com/p/CuqSoC5rtfA/\n"
     ]
    }
   ],
   "source": [
    "downloaded_images = {}\n",
    "# Apply the function to the postUrl column and create the imageid column with unique numbered names\n",
    "image_ids = []\n",
    "img_counter = 1\n",
    "for url in df['postUrl']:\n",
    "    if url not in downloaded_images:\n",
    "        img_name = download_image(url, images_folder, img_counter, downloaded_images)\n",
    "        if img_name:\n",
    "            downloaded_images[url] = img_name\n",
    "            img_counter += 1\n",
    "    else:\n",
    "        img_name = downloaded_images[url]\n",
    "    image_ids.append(img_name)"
   ]
  },
  {
   "cell_type": "code",
   "execution_count": 25,
   "id": "94ebed7a",
   "metadata": {},
   "outputs": [],
   "source": [
    "df['imageid'] = image_ids"
   ]
  },
  {
   "cell_type": "code",
   "execution_count": 26,
   "id": "70efaef7",
   "metadata": {},
   "outputs": [],
   "source": [
    "# Save the updated dataset\n",
    "df.to_csv(updated_dataset_path, index=False)"
   ]
  },
  {
   "cell_type": "markdown",
   "id": "c5b7e6d7",
   "metadata": {},
   "source": [
    "# Removing all rows with no imageid"
   ]
  },
  {
   "cell_type": "code",
   "execution_count": 27,
   "id": "cff496cb",
   "metadata": {},
   "outputs": [],
   "source": [
    "updated_dataset_path = 'D:\\\\instagram\\\\updated_dataset.csv'\n",
    "cleaned_dataset_path = 'D:\\\\instagram\\\\cleaned_dataset.csv'\n",
    "\n",
    "df = pd.read_csv(updated_dataset_path)\n",
    "df_cleaned = df.dropna()\n",
    "\n",
    "df_cleaned.to_csv(cleaned_dataset_path, index=False)"
   ]
  },
  {
   "cell_type": "markdown",
   "id": "9a58d68c",
   "metadata": {},
   "source": [
    "# Change label names"
   ]
  },
  {
   "cell_type": "code",
   "execution_count": 32,
   "id": "48d26e3d",
   "metadata": {},
   "outputs": [],
   "source": [
    "cleaned_dataset_path = 'D:\\\\instagram\\\\cleaned_dataset.csv'\n",
    "final_dataset_path = 'D:\\\\instagram\\\\final_dataset.csv'\n",
    "\n",
    "df = pd.read_csv(cleaned_dataset_path)\n",
    "\n",
    "label_mapping = {\n",
    "    'Real': 'real',\n",
    "    'pants_on_fire': 'fake',\n",
    "    'half_true': 'real',\n",
    "    'barely_true': 'real',\n",
    "    'mostly_true': 'real'\n",
    "}\n",
    "df['label'] = df['label'].replace(label_mapping)\n",
    "\n",
    "df.to_csv(final_dataset_path, index=False)"
   ]
  },
  {
   "cell_type": "code",
   "execution_count": 33,
   "id": "2e1cfde3",
   "metadata": {},
   "outputs": [],
   "source": [
    "df = pd.read_csv(final_dataset_path)\n",
    "\n",
    "columns_to_drop = ['ownerProfilePicUrl', 'ownerUsername', 'postUrl']\n",
    "df = df.drop(columns=columns_to_drop)\n",
    "\n",
    "df.to_csv(final_dataset_path, index=False)"
   ]
  },
  {
   "cell_type": "markdown",
   "id": "05c544c2",
   "metadata": {},
   "source": [
    "# Preprocessing"
   ]
  },
  {
   "cell_type": "code",
   "execution_count": 34,
   "id": "55788248",
   "metadata": {},
   "outputs": [],
   "source": [
    "import re\n",
    "import nltk\n",
    "from nltk.corpus import stopwords\n",
    "from nltk.tokenize import word_tokenize\n",
    "from nltk.stem import WordNetLemmatizer"
   ]
  },
  {
   "cell_type": "code",
   "execution_count": 35,
   "id": "73cdbdfd",
   "metadata": {},
   "outputs": [
    {
     "name": "stderr",
     "output_type": "stream",
     "text": [
      "[nltk_data] Downloading package stopwords to\n",
      "[nltk_data]     C:\\Users\\Dell\\AppData\\Roaming\\nltk_data...\n",
      "[nltk_data]   Unzipping corpora\\stopwords.zip.\n",
      "[nltk_data] Downloading package punkt to\n",
      "[nltk_data]     C:\\Users\\Dell\\AppData\\Roaming\\nltk_data...\n",
      "[nltk_data]   Unzipping tokenizers\\punkt.zip.\n",
      "[nltk_data] Downloading package wordnet to\n",
      "[nltk_data]     C:\\Users\\Dell\\AppData\\Roaming\\nltk_data...\n"
     ]
    },
    {
     "data": {
      "text/plain": [
       "True"
      ]
     },
     "execution_count": 35,
     "metadata": {},
     "output_type": "execute_result"
    }
   ],
   "source": [
    "nltk.download('stopwords')\n",
    "nltk.download('punkt')\n",
    "nltk.download('wordnet')"
   ]
  },
  {
   "cell_type": "code",
   "execution_count": 36,
   "id": "f1bd2b70",
   "metadata": {},
   "outputs": [],
   "source": [
    "df = pd.read_csv(final_dataset_path)\n",
    "lemmatizer = WordNetLemmatizer()"
   ]
  },
  {
   "cell_type": "code",
   "execution_count": 37,
   "id": "ca15bd65",
   "metadata": {},
   "outputs": [],
   "source": [
    "def preprocess_text(text):\n",
    "    text = text.lower()\n",
    "    text = BeautifulSoup(text, \"html.parser\").get_text()\n",
    "    text = re.sub(r'\\W', ' ', text)\n",
    "    text = re.sub(r'\\s+[a-zA-Z]\\s+', ' ', text)\n",
    "    text = re.sub(r'\\s+', ' ', text)\n",
    "    tokens = word_tokenize(text)\n",
    "    tokens = [lemmatizer.lemmatize(word) for word in tokens if word not in stopwords.words('english')]\n",
    "    preprocessed_text = ' '.join(tokens)\n",
    "    \n",
    "    return preprocessed_text"
   ]
  },
  {
   "cell_type": "code",
   "execution_count": 38,
   "id": "9a9fd80a",
   "metadata": {},
   "outputs": [
    {
     "name": "stderr",
     "output_type": "stream",
     "text": [
      "C:\\Users\\Dell\\AppData\\Local\\Temp\\ipykernel_3752\\544081581.py:6: MarkupResemblesLocatorWarning: The input looks more like a URL than markup. You may want to use an HTTP client like requests to get the document behind the URL, and feed that document to Beautiful Soup.\n",
      "  text = BeautifulSoup(text, \"html.parser\").get_text()\n",
      "C:\\Users\\Dell\\AppData\\Local\\Temp\\ipykernel_3752\\544081581.py:6: MarkupResemblesLocatorWarning: The input looks more like a filename than markup. You may want to open this file and pass the filehandle into Beautiful Soup.\n",
      "  text = BeautifulSoup(text, \"html.parser\").get_text()\n"
     ]
    }
   ],
   "source": [
    "df['statements'] = df['statements'].apply(preprocess_text)\n",
    "df['comments'] = df['comments'].apply(preprocess_text)"
   ]
  },
  {
   "cell_type": "code",
   "execution_count": 39,
   "id": "a65e0bea",
   "metadata": {},
   "outputs": [],
   "source": [
    "df.to_csv(final_dataset_path, index=False)"
   ]
  },
  {
   "cell_type": "code",
   "execution_count": 42,
   "id": "2deb74f7",
   "metadata": {},
   "outputs": [
    {
     "name": "stdout",
     "output_type": "stream",
     "text": [
      "Data split into train and test sets. Files saved as 'train.csv' and 'test.csv'.\n"
     ]
    }
   ],
   "source": [
    "from sklearn.model_selection import train_test_split\n",
    "\n",
    "df = pd.read_csv(final_dataset_path)\n",
    "\n",
    "train_df, test_df = train_test_split(df, test_size=0.2, random_state=42)\n",
    "\n",
    "train_df.to_csv('D:\\\\instagram\\\\train.csv', index=False)\n",
    "test_df.to_csv('D:\\\\instagram\\\\test.csv', index=False)\n",
    "\n",
    "print(\"Data split into train and test sets. Files saved as 'train.csv' and 'test.csv'.\")"
   ]
  },
  {
   "cell_type": "code",
   "execution_count": 1,
   "id": "34534659",
   "metadata": {},
   "outputs": [],
   "source": [
    "final_dataset_path = 'D:\\\\instagram\\\\final_dataset.csv'"
   ]
  },
  {
   "cell_type": "code",
   "execution_count": 2,
   "id": "3dbbb07f",
   "metadata": {},
   "outputs": [],
   "source": [
    "import pandas as pd\n",
    "df = pd.read_csv(final_dataset_path)"
   ]
  },
  {
   "cell_type": "code",
   "execution_count": 3,
   "id": "5320ccc6",
   "metadata": {},
   "outputs": [
    {
     "name": "stdout",
     "output_type": "stream",
     "text": [
      "             id  likesCount  \\\n",
      "0  1.810000e+16         0.0   \n",
      "1  1.790000e+16         0.0   \n",
      "2  1.800000e+16         0.0   \n",
      "3  1.800000e+16         0.0   \n",
      "4  1.800000e+16         0.0   \n",
      "\n",
      "                                          statements  \\\n",
      "0  â œlego donates model mri kit hospital help ch...   \n",
      "1  â œlego donates model mri kit hospital help ch...   \n",
      "2  â œlego donates model mri kit hospital help ch...   \n",
      "3  â œlego donates model mri kit hospital help ch...   \n",
      "4  â œlego donates model mri kit hospital help ch...   \n",
      "\n",
      "                                   comments                 timestamp label  \\\n",
      "0                           billyto awesome  2023-10-29T08:58:38.000Z  real   \n",
      "1                        childrenshealthirl  2023-10-29T14:12:26.000Z  real   \n",
      "2  dylawn444 ever child mri asking question  2023-10-29T14:29:59.000Z  real   \n",
      "3       another reason lego amazing company  2023-10-29T15:11:30.000Z  real   \n",
      "4                                   awesome  2023-10-29T16:05:51.000Z  real   \n",
      "\n",
      "  imageid  \n",
      "0  1.jpeg  \n",
      "1  1.jpeg  \n",
      "2  1.jpeg  \n",
      "3  1.jpeg  \n",
      "4  1.jpeg  \n"
     ]
    }
   ],
   "source": [
    "print(df.head())"
   ]
  },
  {
   "cell_type": "code",
   "execution_count": 7,
   "id": "47a35432",
   "metadata": {},
   "outputs": [],
   "source": [
    "statements = df['statements']\n",
    "num_real = df[df['label'] == 'real'].shape[0]\n",
    "num_fake = df[df['label'] == 'fake'].shape[0]"
   ]
  },
  {
   "cell_type": "code",
   "execution_count": 8,
   "id": "edf7cde0",
   "metadata": {},
   "outputs": [
    {
     "name": "stdout",
     "output_type": "stream",
     "text": [
      "Number of real statements: 1334\n",
      "Number of fake statements: 10152\n"
     ]
    }
   ],
   "source": [
    "print(f\"Number of real statements: {num_real}\")\n",
    "print(f\"Number of fake statements: {num_fake}\")"
   ]
  },
  {
   "cell_type": "code",
   "execution_count": 4,
   "id": "c7cac66d",
   "metadata": {},
   "outputs": [
    {
     "name": "stdout",
     "output_type": "stream",
     "text": [
      "Number of unique statements: 167\n"
     ]
    }
   ],
   "source": [
    "unique_statements = df['statements'].unique()\n",
    "num_unique_statements = len(unique_statements)\n",
    "\n",
    "print(f'Number of unique statements: {num_unique_statements}')\n"
   ]
  },
  {
   "cell_type": "code",
   "execution_count": 6,
   "id": "334efd36",
   "metadata": {},
   "outputs": [
    {
     "name": "stdout",
     "output_type": "stream",
     "text": [
      "Number of unique statements: 171\n"
     ]
    }
   ],
   "source": [
    "df = pd.read_csv('D:\\\\instagram\\\\instagramdataset_comments.csv')\n",
    "unique_statements = df['statements'].unique()\n",
    "num_unique_statements = len(unique_statements)\n",
    "\n",
    "print(f'Number of unique statements: {num_unique_statements}')\n"
   ]
  },
  {
   "cell_type": "code",
   "execution_count": 7,
   "id": "57ee2c84",
   "metadata": {},
   "outputs": [
    {
     "name": "stdout",
     "output_type": "stream",
     "text": [
      "Longest statement: say â œbill gate globalists collaboration pharmaceutical company reportedly working push tracking bracelet â invisible tattoosâ monitor american impending lockdown â\n",
      "Length of longest statement: 165\n",
      "Shortest statement: well\n",
      "Length of shortest statement: 4\n"
     ]
    }
   ],
   "source": [
    "df = pd.read_csv(final_dataset_path)\n",
    "df['stlength'] = df['statements'].apply(len)\n",
    "\n",
    "longest_statement = df.loc[df['stlength'].idxmax()]\n",
    "print(f'Longest statement: {longest_statement[\"statements\"]}')\n",
    "print(f'Length of longest statement: {longest_statement[\"stlength\"]}')\n",
    "\n",
    "shortest_statement = df.loc[df['stlength'].idxmin()]\n",
    "print(f'Shortest statement: {shortest_statement[\"statements\"]}')\n",
    "print(f'Length of shortest statement: {shortest_statement[\"stlength\"]}')"
   ]
  },
  {
   "cell_type": "code",
   "execution_count": 11,
   "id": "06f746ac",
   "metadata": {},
   "outputs": [
    {
     "name": "stdout",
     "output_type": "stream",
     "text": [
      "Longest comment: copied shared seen lot comment suggesting another attack u first thought case bridge full read every thing also make think actually critical thinking skill believe administration working u u opinion sharing hurt open minded lara logan multiple intel source baltimore bridge collapse absolutely brilliant strategic attack u critical infrastructure likely cyber intel agency know information warfare term divided u along mason dixon line exactly like civil war second busiest strategic roadway nation hazardous material 4 5 year long say take recover bridge built specifically move hazardous material fuel diesel propane gas nitrogen highly flammable material chemical oversized cargo fit tunnel supply chain crippled make mistake extraordinary attack term planning timing execution two critical component bridge two load bearing pylon end closest shore bigger thicker deeper anything else anchor point knew hitting either one one would fatal wound integrity bridge half mile bridge went river likely build new one also caused much damage structural integrity bottom concrete part see know take wreckage apart structural destruction likely absolute attack perfectly targeted figured bring u long stay away teeth u military pick u apart arrogant ignorant lethal combination obama said would fundamentally change america free fall ride roller coaster right brake picking speed footage show cargo ship neve\n",
      "Length of longest comment: 1401\n",
      "Shortest comment: l\n",
      "Length of shortest comment: 1\n"
     ]
    }
   ],
   "source": [
    "df = pd.read_csv(final_dataset_path)\n",
    "df['comments'] = df['comments'].astype(str)\n",
    "df['clength'] = df['comments'].apply(len)\n",
    "\n",
    "# Find the longest statement and its size\n",
    "longest_c = df.loc[df['clength'].idxmax()]\n",
    "print(f'Longest comment: {longest_c[\"comments\"]}')\n",
    "print(f'Length of longest comment: {longest_c[\"clength\"]}')\n",
    "\n",
    "# Find the shortest statement and its size\n",
    "shortest_c = df.loc[df['clength'].idxmin()]\n",
    "print(f'Shortest comment: {shortest_c[\"comments\"]}')\n",
    "print(f'Length of shortest comment: {shortest_c[\"clength\"]}')"
   ]
  },
  {
   "cell_type": "code",
   "execution_count": null,
   "id": "96e50e09",
   "metadata": {},
   "outputs": [],
   "source": []
  }
 ],
 "metadata": {
  "kernelspec": {
   "display_name": "Python 3 (ipykernel)",
   "language": "python",
   "name": "python3"
  },
  "language_info": {
   "codemirror_mode": {
    "name": "ipython",
    "version": 3
   },
   "file_extension": ".py",
   "mimetype": "text/x-python",
   "name": "python",
   "nbconvert_exporter": "python",
   "pygments_lexer": "ipython3",
   "version": "3.10.9"
  }
 },
 "nbformat": 4,
 "nbformat_minor": 5
}
